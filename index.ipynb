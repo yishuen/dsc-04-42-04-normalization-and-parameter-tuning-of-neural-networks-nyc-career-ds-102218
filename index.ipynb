{
 "cells": [
  {
   "cell_type": "markdown",
   "metadata": {},
   "source": [
    "# Normalization and Tuning Neural Networks\n",
    "\n",
    "## Introduction\n",
    "\n",
    "Now that we've investigated some methods for tuning our networks, we will investigate some further methods and concepts regarding reducing training time. These concepts will begin to form a more cohesive framework for choices along the modelling process.\n",
    "\n",
    "## Objectives\n",
    "You will be able to:\n",
    "* Describe various techniques for streamlining network training"
   ]
  },
  {
   "cell_type": "markdown",
   "metadata": {},
   "source": [
    "## Normalized Inputs: Speed Up Training\n",
    "\n",
    "One way to speed up training of your neural networks is to normalize the input. In fact, even if training time were not a concern, normalization to a consistent scale across features (typically 0 to 1) should be used to ensure that the process converges to a stable solution. Similar to some of our previous work in training models, one general process for standardizing our data is:  \n",
    "1.  subtracting the mean\n",
    "2. normalize by dividing by the standard deviation"
   ]
  },
  {
   "cell_type": "markdown",
   "metadata": {},
   "source": [
    "## Vanishing or Exploding Gradients\n",
    "\n",
    "Not only will normalizing your inputs speed up training, it can also mitigate other risks inherent in training neural networks. For example, in a neural network, having input of various ranges can lead to difficult numerical problems when the algorithm goes to compute gradients during forward and back propogation. This can lead to untenable solutions and will prevent the algorithm from converging to a solution. In short, make sure you normalize your data! Here's a little more mathematical background:"
   ]
  },
  {
   "cell_type": "markdown",
   "metadata": {},
   "source": [
    "To demonstrate, let's imagine a very deep neural network. Let's assume $g(z)=z$ (so no transformation, just a linear activation function), and biases equal to 0."
   ]
  },
  {
   "cell_type": "markdown",
   "metadata": {},
   "source": [
    "$\\hat y = w^{[L]}w^{[L-1]}w^{[L-2]}... w^{[3]}w^{[2]}w^{[1]}x$"
   ]
  },
  {
   "cell_type": "markdown",
   "metadata": {},
   "source": [
    "recall that $z^{[1]} =w^{[1]}x $, and that $a^{[1]}=g(z^{[1]})=z^{[1]}$\n",
    "\n",
    "similarly, $a^{[2]}=g(z^{[2]})=g(w^{[2]}a^{[1]})$\n",
    "\n",
    "Imagine 2 nodes in each layer, and w =  $\\begin{bmatrix} 1.3 & 0 \\\\ 0 & 1.3 \\end{bmatrix}$"
   ]
  },
  {
   "cell_type": "markdown",
   "metadata": {},
   "source": [
    "$\\hat y = w^{[L]} \\begin{bmatrix} 1.3 & 0 \\\\ 0 & 1.3 \\end{bmatrix}^{L-1}   x$\n",
    "\n",
    "Even if w's slightly smaller than 1 or slightly larger, the activations will explode when there are many layers in the network!"
   ]
  },
  {
   "cell_type": "markdown",
   "metadata": {},
   "source": [
    "https://www.coursera.org/learn/deep-neural-network/lecture/lXv6U/normalizing-inputs"
   ]
  },
  {
   "cell_type": "markdown",
   "metadata": {},
   "source": [
    "## Other Solutions to Vanishing and Exploding Gradients\n",
    "\n",
    "Aside from normalizing our data, we can also investigate the impact of changing our initialization parameters when we first launch the gradient descent algorithm. \n",
    "\n",
    "For initialization, the more input features feeding into layer l, the smaller we want each $w_i$ to be.   \n",
    "\n",
    "A common rule of thumb is:   \n",
    "$Var(w_i)$ = $1/n$ or $2/n$"
   ]
  },
  {
   "cell_type": "markdown",
   "metadata": {},
   "source": [
    "One common initialization strategy for the relu activation function is:  \n",
    "  \n",
    "```w^{[l]}= np.random.randn(shape)*np.sqrt(2/n_(l-1)) ```\n",
    "  \n",
    "Later, we'll discuss other initialization strategies pertinent to other activation fuctions."
   ]
  },
  {
   "cell_type": "markdown",
   "metadata": {},
   "source": [
    "## Optimization  \n",
    "\n",
    "In addition, we could even use an alternative convergence algorithm instead of gradient descent. One issue with gradient descent is that it oscillates to a fairly big extent, because the derivative is bigger in the vertical direction.  \n",
    "\n",
    "![title](optimizer.png)  \n",
    "\n",
    "With that, here's some optimization algorithms that work faster than gradient descent:"
   ]
  },
  {
   "cell_type": "markdown",
   "metadata": {},
   "source": [
    "## Gradient Descent with Momentum\n",
    "Compute an exponentially weighthed average of the gradients and use that gradient instead. The intuitive interpretation is that this will successively dampen oscillations, improving convergence.\n",
    "\n",
    "Momentum:\n",
    "compute dW and db on the current minibatch.\n",
    "\n",
    "Combute $V_{dw} = \\beta V_{dw} + (1-\\beta)dW$ and\n",
    "\n",
    "Combute $V_{db} = \\beta V_{db} + (1-\\beta)db$\n",
    "\n",
    "--> moving average for the derivatives of W and b\n",
    "\n",
    "$W:= W- \\alpha Vdw$\n",
    "\n",
    "$b:= b- \\alpha Vdb$\n",
    "\n",
    "This averages out gradient descent, and will \"dampen\" oscillations\n",
    "Generally, $\\beta=0.9$ is a good hyperparameter value.\n"
   ]
  },
  {
   "cell_type": "markdown",
   "metadata": {},
   "source": [
    "## RMSprop\n",
    "\n",
    "RMSprop: \"root mean square\" prop.\n",
    "\n",
    "Slow down learning on one direction and speed up in another one.\n",
    "\n",
    "On each iteration, use exponentially weithed average again:\n",
    "exponentially weighted average of the squares of the derivatives\n",
    "\n",
    "$S_{dw} = \\beta S_{dw} + (1-\\beta)dW^2$\n",
    "\n",
    "$S_{db} = \\beta S_{dw} + (1-\\beta)db^2$\n",
    "\n",
    "$W:= W- \\alpha \\dfrac{dw}{\\sqrt{S_{dw}}}$ and\n",
    "\n",
    "$b:= b- \\alpha \\dfrac{db}{\\sqrt{S_{db}}}$\n",
    "\n",
    "In the direction where we want to learn fast, the corresponding S will be small, so dividing by a small number. On the other hand, in the direction where we will want to learn slow, the corresponding S will be relatively large, and updates will be smaller. \n",
    "\n",
    "Often, add small $\\epsilon$ in the denominator to make sure that you don't end up dividing by 0."
   ]
  },
  {
   "cell_type": "markdown",
   "metadata": {},
   "source": [
    "## Adam Optimization Algorithm\n",
    "\n",
    "\"Adaptive Moment Estimation\", basically using the first and second moment estimations.\n",
    "\n",
    "Works very well in many situations!\n",
    "\n",
    "Taking momentum and RMSprop and putting it together!\n",
    "\n",
    "Initialize:\n",
    "\n",
    "$V_{dw}=0, S_{dw}=0, V_{db}=0, S_{db}=0$.\n",
    "\n",
    "each iteration:\n",
    "Compute $dW, db$ using the current mini-batch\n",
    "\n",
    "$V_{dw} = \\beta_1 V_{dw} + (1-\\beta_1)dW$, $V_{db} = \\beta_1 V_{db} + (1-\\beta_1)db$ \n",
    "\n",
    "$S_{dw} = \\beta_2 S_{dw} + (1-\\beta_2)dW^2$, $S_{db} = \\beta_2 S_{db} + (1-\\beta_2)db^2$ \n",
    "\n",
    "Is like momentum and then RMSprop. We need to perform a correction! This is sometimes also done in RSMprop, but definitely here too.\n",
    "\n",
    "\n",
    "$V^{corr}_{dw}= \\dfrac{V_{dw}}{1-\\beta_1^t}$, $V^{corr}_{db}= \\dfrac{V_{db}}{1-\\beta_1^t}$\n",
    "\n",
    "$S^{corr}_{dw}= \\dfrac{S_{dw}}{1-\\beta_2^t}$, $S^{corr}_{db}= \\dfrac{S_{db}}{1-\\beta_2^t}$\n",
    "\n",
    "$W:= W- \\alpha \\dfrac{V^{corr}_{dw}}{\\sqrt{S^{corr}_{dw}+\\epsilon}}$ and\n",
    "\n",
    "$b:= b- \\alpha \\dfrac{V^{corr}_{db}}{\\sqrt{S^{corr}_{db}+\\epsilon}}$ "
   ]
  },
  {
   "cell_type": "markdown",
   "metadata": {},
   "source": [
    "Hyperparameters:\n",
    "- $\\alpha$ we need to tune\n",
    "- $\\beta_1 = 0.9$\n",
    "- $\\beta_2 = 0.999$\n",
    "- $\\epsilon = 10^{-8}$\n",
    "\n",
    "Generally, only $\\alpha$ gets tuned."
   ]
  },
  {
   "cell_type": "markdown",
   "metadata": {},
   "source": [
    "## Learning Rate Decay"
   ]
  },
  {
   "cell_type": "markdown",
   "metadata": {},
   "source": [
    "Learning rate decreases across epochs.\n",
    "\n",
    "$\\alpha = \\dfrac{1}{1+\\text{decay_rate * epoch_nb}}* \\alpha_0$\n",
    "\n",
    "other methods:\n",
    "\n",
    "$\\alpha = 0.97 ^{\\text{epoch_nb}}* \\alpha_0$ (or exponential decay)\n",
    "\n",
    "or\n",
    "\n",
    "$\\alpha = \\dfrac{k}{\\sqrt{\\text{epoch_nb}}}* \\alpha_0$\n",
    "\n",
    "or\n",
    "\n",
    "Manual decay!\n"
   ]
  },
  {
   "cell_type": "markdown",
   "metadata": {},
   "source": [
    "## Hyperparameter Tuning"
   ]
  },
  {
   "cell_type": "markdown",
   "metadata": {},
   "source": [
    "Now that we've ween some optimization algorithms, let's have another look at all the hyperparameters that need tuning."
   ]
  },
  {
   "cell_type": "markdown",
   "metadata": {},
   "source": [
    "Most important:\n",
    "- $\\alpha$\n",
    "\n",
    "Important next:\n",
    "- $\\beta$ (momentum)\n",
    "- Number of hidden units\n",
    "- mini-batch-size\n",
    "\n",
    "Finally:\n",
    "- Number of layers\n",
    "- Learning rate decay\n",
    "\n",
    "Almost never tuned:\n",
    "- $\\beta_1$, $\\beta_2$, $\\epsilon$ (Adam)\n",
    "\n",
    "Things to do:\n",
    "\n",
    "- don't use a grid, because hard to say in advance which hyperparameters will be important\n",
    "\n"
   ]
  },
  {
   "cell_type": "markdown",
   "metadata": {},
   "source": [
    "## Additional Resources  \n",
    "\n",
    "https://www.coursera.org/learn/deep-neural-network/lecture/y0m1f/gradient-descent-with-momentum"
   ]
  },
  {
   "cell_type": "markdown",
   "metadata": {},
   "source": [
    "## Summary \n",
    "\n",
    "In this lesson we began discussing issues regarding the convergence of neural networks training. This included the need for normalization as well as initialization parameters and some optimization algorithms. In the upcoming lab, you'll further investigate these ideas in practice and observe their impacts from various perspectives."
   ]
  }
 ],
 "metadata": {
  "kernelspec": {
   "display_name": "Python 3",
   "language": "python",
   "name": "python3"
  },
  "language_info": {
   "codemirror_mode": {
    "name": "ipython",
    "version": 3
   },
   "file_extension": ".py",
   "mimetype": "text/x-python",
   "name": "python",
   "nbconvert_exporter": "python",
   "pygments_lexer": "ipython3",
   "version": "3.6.6"
  }
 },
 "nbformat": 4,
 "nbformat_minor": 2
}
